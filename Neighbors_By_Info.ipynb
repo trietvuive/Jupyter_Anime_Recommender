{
 "cells": [
  {
   "cell_type": "code",
   "execution_count": 86,
   "metadata": {
    "_cell_guid": "3d40a89f-c9ef-85fe-7939-f69d50cc9bc8",
    "execution": {
     "iopub.execute_input": "2021-09-29T17:16:03.269420Z",
     "iopub.status.busy": "2021-09-29T17:16:03.268631Z",
     "iopub.status.idle": "2021-09-29T17:16:04.356427Z",
     "shell.execute_reply": "2021-09-29T17:16:04.355351Z",
     "shell.execute_reply.started": "2021-09-29T17:16:03.269355Z"
    }
   },
   "outputs": [],
   "source": [
    "import pandas as pd\n",
    "import os\n",
    "import numpy as np\n",
    "import re\n",
    "\n",
    "DATASET_PATH = os.path.join(\"datasets/real_set\")\n",
    "def load_dataset(FILE_NAME,CSV_PATH = DATASET_PATH):\n",
    "    csv_path = os.path.join(CSV_PATH, FILE_NAME)\n",
    "    return pd.read_csv(csv_path)\n",
    "anime_infos = load_dataset(\"anime.csv\")\n",
    "my_ratings = load_dataset(\"my_rating.csv\")"
   ]
  },
  {
   "cell_type": "code",
   "execution_count": 87,
   "metadata": {
    "_cell_guid": "43808df8-9c5c-5d0b-3c74-0a1801662302",
    "execution": {
     "iopub.execute_input": "2021-09-29T17:16:12.173154Z",
     "iopub.status.busy": "2021-09-29T17:16:12.171843Z",
     "iopub.status.idle": "2021-09-29T17:16:12.200399Z",
     "shell.execute_reply": "2021-09-29T17:16:12.199485Z",
     "shell.execute_reply.started": "2021-09-29T17:16:12.173087Z"
    }
   },
   "outputs": [
    {
     "data": {
      "text/html": [
       "<div>\n",
       "<style scoped>\n",
       "    .dataframe tbody tr th:only-of-type {\n",
       "        vertical-align: middle;\n",
       "    }\n",
       "\n",
       "    .dataframe tbody tr th {\n",
       "        vertical-align: top;\n",
       "    }\n",
       "\n",
       "    .dataframe thead th {\n",
       "        text-align: right;\n",
       "    }\n",
       "</style>\n",
       "<table border=\"1\" class=\"dataframe\">\n",
       "  <thead>\n",
       "    <tr style=\"text-align: right;\">\n",
       "      <th></th>\n",
       "      <th>anime_id</th>\n",
       "      <th>name</th>\n",
       "      <th>genre</th>\n",
       "      <th>type</th>\n",
       "      <th>episodes</th>\n",
       "      <th>rating</th>\n",
       "      <th>members</th>\n",
       "    </tr>\n",
       "  </thead>\n",
       "  <tbody>\n",
       "    <tr>\n",
       "      <th>0</th>\n",
       "      <td>32281</td>\n",
       "      <td>Kimi no Na wa.</td>\n",
       "      <td>Drama, Romance, School, Supernatural</td>\n",
       "      <td>Movie</td>\n",
       "      <td>1</td>\n",
       "      <td>9.37</td>\n",
       "      <td>200630</td>\n",
       "    </tr>\n",
       "    <tr>\n",
       "      <th>1</th>\n",
       "      <td>5114</td>\n",
       "      <td>Fullmetal Alchemist: Brotherhood</td>\n",
       "      <td>Action, Adventure, Drama, Fantasy, Magic, Mili...</td>\n",
       "      <td>TV</td>\n",
       "      <td>64</td>\n",
       "      <td>9.26</td>\n",
       "      <td>793665</td>\n",
       "    </tr>\n",
       "    <tr>\n",
       "      <th>2</th>\n",
       "      <td>28977</td>\n",
       "      <td>Gintama°</td>\n",
       "      <td>Action, Comedy, Historical, Parody, Samurai, S...</td>\n",
       "      <td>TV</td>\n",
       "      <td>51</td>\n",
       "      <td>9.25</td>\n",
       "      <td>114262</td>\n",
       "    </tr>\n",
       "    <tr>\n",
       "      <th>3</th>\n",
       "      <td>9253</td>\n",
       "      <td>Steins;Gate</td>\n",
       "      <td>Sci-Fi, Thriller</td>\n",
       "      <td>TV</td>\n",
       "      <td>24</td>\n",
       "      <td>9.17</td>\n",
       "      <td>673572</td>\n",
       "    </tr>\n",
       "    <tr>\n",
       "      <th>4</th>\n",
       "      <td>9969</td>\n",
       "      <td>Gintama&amp;#039;</td>\n",
       "      <td>Action, Comedy, Historical, Parody, Samurai, S...</td>\n",
       "      <td>TV</td>\n",
       "      <td>51</td>\n",
       "      <td>9.16</td>\n",
       "      <td>151266</td>\n",
       "    </tr>\n",
       "  </tbody>\n",
       "</table>\n",
       "</div>"
      ],
      "text/plain": [
       "   anime_id                              name  \\\n",
       "0     32281                    Kimi no Na wa.   \n",
       "1      5114  Fullmetal Alchemist: Brotherhood   \n",
       "2     28977                          Gintama°   \n",
       "3      9253                       Steins;Gate   \n",
       "4      9969                     Gintama&#039;   \n",
       "\n",
       "                                               genre   type episodes  rating  \\\n",
       "0               Drama, Romance, School, Supernatural  Movie        1    9.37   \n",
       "1  Action, Adventure, Drama, Fantasy, Magic, Mili...     TV       64    9.26   \n",
       "2  Action, Comedy, Historical, Parody, Samurai, S...     TV       51    9.25   \n",
       "3                                   Sci-Fi, Thriller     TV       24    9.17   \n",
       "4  Action, Comedy, Historical, Parody, Samurai, S...     TV       51    9.16   \n",
       "\n",
       "   members  \n",
       "0   200630  \n",
       "1   793665  \n",
       "2   114262  \n",
       "3   673572  \n",
       "4   151266  "
      ]
     },
     "execution_count": 87,
     "metadata": {},
     "output_type": "execute_result"
    }
   ],
   "source": [
    "anime_infos.head()"
   ]
  },
  {
   "cell_type": "code",
   "execution_count": 88,
   "metadata": {
    "_cell_guid": "ac4631f9-3c21-b767-86ca-fe2b2859048c",
    "execution": {
     "iopub.execute_input": "2021-09-29T17:16:21.790938Z",
     "iopub.status.busy": "2021-09-29T17:16:21.790100Z",
     "iopub.status.idle": "2021-09-29T17:16:21.818581Z",
     "shell.execute_reply": "2021-09-29T17:16:21.817612Z",
     "shell.execute_reply.started": "2021-09-29T17:16:21.790880Z"
    }
   },
   "outputs": [],
   "source": [
    "anime_infos.loc[(anime_infos[\"genre\"]==\"Hentai\") & (anime_infos[\"episodes\"]==\"Unknown\"),\"episodes\"] = \"1\"\n",
    "anime_infos.loc[(anime_infos[\"type\"]==\"OVA\") & (anime_infos[\"episodes\"]==\"Unknown\"),\"episodes\"] = \"1\"\n",
    "\n",
    "anime_infos.loc[(anime_infos[\"type\"] == \"Movie\") & (anime_infos[\"episodes\"] == \"Unknown\")] = \"1\""
   ]
  },
  {
   "cell_type": "markdown",
   "metadata": {},
   "source": [
    "### Episodes\n",
    "Many animes have unknown episodes. Just make them the median of all animes"
   ]
  },
  {
   "cell_type": "code",
   "execution_count": 89,
   "metadata": {
    "_cell_guid": "53ece008-e97f-9ec3-2e75-3748d5a0adf2"
   },
   "outputs": [],
   "source": [
    "anime_infos[\"episodes\"] = anime_infos[\"episodes\"].map(lambda x:np.nan if x==\"Unknown\" else x)\n",
    "anime_infos[\"episodes\"].fillna(anime_infos[\"episodes\"].median(),inplace = True)"
   ]
  },
  {
   "cell_type": "markdown",
   "metadata": {
    "_cell_guid": "eb8d01f6-ea41-51ad-8522-3c73879d5b07"
   },
   "source": [
    "### Rating \n",
    "\n",
    "Many animes have unknown ratings. These were filled with the median of the ratings."
   ]
  },
  {
   "cell_type": "code",
   "execution_count": 90,
   "metadata": {
    "_cell_guid": "a1c2fce2-b746-b0db-dfe0-5f6d513b956d"
   },
   "outputs": [],
   "source": [
    "anime_infos[\"rating\"] = anime_infos[\"rating\"].astype(float)\n",
    "anime_infos[\"rating\"].fillna(anime_infos[\"rating\"].median(),inplace = True)"
   ]
  },
  {
   "cell_type": "markdown",
   "metadata": {
    "_cell_guid": "30442d93-265b-dc00-2d45-e5f1e778e237"
   },
   "source": [
    "### Type \n",
    "\n",
    "Type category differentiates between movies, music, TV shows(regular anime episodes), OVA/ONA etc. These are categorical variables so I used ```pd.get_dummies``` to convert them to dummy variables."
   ]
  },
  {
   "cell_type": "code",
   "execution_count": 91,
   "metadata": {
    "_cell_guid": "3729f3d2-4ee1-c987-7ff9-a828776893aa"
   },
   "outputs": [
    {
     "data": {
      "text/html": [
       "<div>\n",
       "<style scoped>\n",
       "    .dataframe tbody tr th:only-of-type {\n",
       "        vertical-align: middle;\n",
       "    }\n",
       "\n",
       "    .dataframe tbody tr th {\n",
       "        vertical-align: top;\n",
       "    }\n",
       "\n",
       "    .dataframe thead th {\n",
       "        text-align: right;\n",
       "    }\n",
       "</style>\n",
       "<table border=\"1\" class=\"dataframe\">\n",
       "  <thead>\n",
       "    <tr style=\"text-align: right;\">\n",
       "      <th></th>\n",
       "      <th>type_1</th>\n",
       "      <th>type_Movie</th>\n",
       "      <th>type_Music</th>\n",
       "      <th>type_ONA</th>\n",
       "      <th>type_OVA</th>\n",
       "      <th>type_Special</th>\n",
       "      <th>type_TV</th>\n",
       "    </tr>\n",
       "  </thead>\n",
       "  <tbody>\n",
       "    <tr>\n",
       "      <th>0</th>\n",
       "      <td>0</td>\n",
       "      <td>1</td>\n",
       "      <td>0</td>\n",
       "      <td>0</td>\n",
       "      <td>0</td>\n",
       "      <td>0</td>\n",
       "      <td>0</td>\n",
       "    </tr>\n",
       "    <tr>\n",
       "      <th>1</th>\n",
       "      <td>0</td>\n",
       "      <td>0</td>\n",
       "      <td>0</td>\n",
       "      <td>0</td>\n",
       "      <td>0</td>\n",
       "      <td>0</td>\n",
       "      <td>1</td>\n",
       "    </tr>\n",
       "    <tr>\n",
       "      <th>2</th>\n",
       "      <td>0</td>\n",
       "      <td>0</td>\n",
       "      <td>0</td>\n",
       "      <td>0</td>\n",
       "      <td>0</td>\n",
       "      <td>0</td>\n",
       "      <td>1</td>\n",
       "    </tr>\n",
       "    <tr>\n",
       "      <th>3</th>\n",
       "      <td>0</td>\n",
       "      <td>0</td>\n",
       "      <td>0</td>\n",
       "      <td>0</td>\n",
       "      <td>0</td>\n",
       "      <td>0</td>\n",
       "      <td>1</td>\n",
       "    </tr>\n",
       "    <tr>\n",
       "      <th>4</th>\n",
       "      <td>0</td>\n",
       "      <td>0</td>\n",
       "      <td>0</td>\n",
       "      <td>0</td>\n",
       "      <td>0</td>\n",
       "      <td>0</td>\n",
       "      <td>1</td>\n",
       "    </tr>\n",
       "  </tbody>\n",
       "</table>\n",
       "</div>"
      ],
      "text/plain": [
       "   type_1  type_Movie  type_Music  type_ONA  type_OVA  type_Special  type_TV\n",
       "0       0           1           0         0         0             0        0\n",
       "1       0           0           0         0         0             0        1\n",
       "2       0           0           0         0         0             0        1\n",
       "3       0           0           0         0         0             0        1\n",
       "4       0           0           0         0         0             0        1"
      ]
     },
     "execution_count": 91,
     "metadata": {},
     "output_type": "execute_result"
    }
   ],
   "source": [
    "pd.get_dummies(anime_infos[[\"type\"]]).head()"
   ]
  },
  {
   "cell_type": "markdown",
   "metadata": {
    "_cell_guid": "47e2859f-7555-ba67-5199-27c5aa3a24d9"
   },
   "source": [
    "### Members\n",
    "\n",
    "Just converted the strings to float."
   ]
  },
  {
   "cell_type": "code",
   "execution_count": 92,
   "metadata": {
    "_cell_guid": "820faf27-4518-942e-baeb-3a0c8063e961"
   },
   "outputs": [],
   "source": [
    "anime_infos[\"members\"] = anime_infos[\"members\"].astype(float)"
   ]
  },
  {
   "cell_type": "markdown",
   "metadata": {
    "_cell_guid": "0239509d-b301-aca0-99de-17007f059f93"
   },
   "source": [
    "# Feature Selection and Preprocessing\n",
    "\n"
   ]
  },
  {
   "cell_type": "markdown",
   "metadata": {
    "_cell_guid": "6be46648-1811-7794-e098-1c13d699b09b"
   },
   "source": [
    "Episode numbers, members and rating are different from categorical variables and very different in values. Rating ranges from 0-10 in the dataset while the episode number can be even 800+ episodes long when it comes to long running popular animes such as One Piece, Naruto etc. So I ended up using ```sklearn.preprocessing.MaxAbsScaler``` as it preserves the sparsity while scaing the values from 0-1."
   ]
  },
  {
   "cell_type": "code",
   "execution_count": 93,
   "metadata": {
    "_cell_guid": "46e9f1ac-58cf-c45b-6ba5-84db30efbe0d"
   },
   "outputs": [],
   "source": [
    "anime_features = pd.concat([anime_infos[\"genre\"].str.get_dummies(sep=\",\"),pd.get_dummies(anime_infos[[\"type\"]]),anime_infos[[\"rating\"]],anime_infos[[\"members\"]],anime_infos[\"episodes\"]],axis=1)"
   ]
  },
  {
   "cell_type": "code",
   "execution_count": 94,
   "metadata": {
    "_cell_guid": "be5d6264-392c-4801-f0ec-ba1a70f51fa0"
   },
   "outputs": [
    {
     "data": {
      "text/html": [
       "<div>\n",
       "<style scoped>\n",
       "    .dataframe tbody tr th:only-of-type {\n",
       "        vertical-align: middle;\n",
       "    }\n",
       "\n",
       "    .dataframe tbody tr th {\n",
       "        vertical-align: top;\n",
       "    }\n",
       "\n",
       "    .dataframe thead th {\n",
       "        text-align: right;\n",
       "    }\n",
       "</style>\n",
       "<table border=\"1\" class=\"dataframe\">\n",
       "  <thead>\n",
       "    <tr style=\"text-align: right;\">\n",
       "      <th></th>\n",
       "      <th>Adventure</th>\n",
       "      <th>Cars</th>\n",
       "      <th>Comedy</th>\n",
       "      <th>Dementia</th>\n",
       "      <th>Demons</th>\n",
       "      <th>Drama</th>\n",
       "      <th>Ecchi</th>\n",
       "      <th>Fantasy</th>\n",
       "      <th>Game</th>\n",
       "      <th>Harem</th>\n",
       "      <th>...</th>\n",
       "      <th>type_1</th>\n",
       "      <th>type_Movie</th>\n",
       "      <th>type_Music</th>\n",
       "      <th>type_ONA</th>\n",
       "      <th>type_OVA</th>\n",
       "      <th>type_Special</th>\n",
       "      <th>type_TV</th>\n",
       "      <th>rating</th>\n",
       "      <th>members</th>\n",
       "      <th>episodes</th>\n",
       "    </tr>\n",
       "  </thead>\n",
       "  <tbody>\n",
       "    <tr>\n",
       "      <th>0</th>\n",
       "      <td>0</td>\n",
       "      <td>0</td>\n",
       "      <td>0</td>\n",
       "      <td>0</td>\n",
       "      <td>0</td>\n",
       "      <td>0</td>\n",
       "      <td>0</td>\n",
       "      <td>0</td>\n",
       "      <td>0</td>\n",
       "      <td>0</td>\n",
       "      <td>...</td>\n",
       "      <td>0</td>\n",
       "      <td>1</td>\n",
       "      <td>0</td>\n",
       "      <td>0</td>\n",
       "      <td>0</td>\n",
       "      <td>0</td>\n",
       "      <td>0</td>\n",
       "      <td>9.37</td>\n",
       "      <td>200630.0</td>\n",
       "      <td>1</td>\n",
       "    </tr>\n",
       "    <tr>\n",
       "      <th>1</th>\n",
       "      <td>1</td>\n",
       "      <td>0</td>\n",
       "      <td>0</td>\n",
       "      <td>0</td>\n",
       "      <td>0</td>\n",
       "      <td>1</td>\n",
       "      <td>0</td>\n",
       "      <td>1</td>\n",
       "      <td>0</td>\n",
       "      <td>0</td>\n",
       "      <td>...</td>\n",
       "      <td>0</td>\n",
       "      <td>0</td>\n",
       "      <td>0</td>\n",
       "      <td>0</td>\n",
       "      <td>0</td>\n",
       "      <td>0</td>\n",
       "      <td>1</td>\n",
       "      <td>9.26</td>\n",
       "      <td>793665.0</td>\n",
       "      <td>64</td>\n",
       "    </tr>\n",
       "    <tr>\n",
       "      <th>2</th>\n",
       "      <td>0</td>\n",
       "      <td>0</td>\n",
       "      <td>1</td>\n",
       "      <td>0</td>\n",
       "      <td>0</td>\n",
       "      <td>0</td>\n",
       "      <td>0</td>\n",
       "      <td>0</td>\n",
       "      <td>0</td>\n",
       "      <td>0</td>\n",
       "      <td>...</td>\n",
       "      <td>0</td>\n",
       "      <td>0</td>\n",
       "      <td>0</td>\n",
       "      <td>0</td>\n",
       "      <td>0</td>\n",
       "      <td>0</td>\n",
       "      <td>1</td>\n",
       "      <td>9.25</td>\n",
       "      <td>114262.0</td>\n",
       "      <td>51</td>\n",
       "    </tr>\n",
       "    <tr>\n",
       "      <th>3</th>\n",
       "      <td>0</td>\n",
       "      <td>0</td>\n",
       "      <td>0</td>\n",
       "      <td>0</td>\n",
       "      <td>0</td>\n",
       "      <td>0</td>\n",
       "      <td>0</td>\n",
       "      <td>0</td>\n",
       "      <td>0</td>\n",
       "      <td>0</td>\n",
       "      <td>...</td>\n",
       "      <td>0</td>\n",
       "      <td>0</td>\n",
       "      <td>0</td>\n",
       "      <td>0</td>\n",
       "      <td>0</td>\n",
       "      <td>0</td>\n",
       "      <td>1</td>\n",
       "      <td>9.17</td>\n",
       "      <td>673572.0</td>\n",
       "      <td>24</td>\n",
       "    </tr>\n",
       "    <tr>\n",
       "      <th>4</th>\n",
       "      <td>0</td>\n",
       "      <td>0</td>\n",
       "      <td>1</td>\n",
       "      <td>0</td>\n",
       "      <td>0</td>\n",
       "      <td>0</td>\n",
       "      <td>0</td>\n",
       "      <td>0</td>\n",
       "      <td>0</td>\n",
       "      <td>0</td>\n",
       "      <td>...</td>\n",
       "      <td>0</td>\n",
       "      <td>0</td>\n",
       "      <td>0</td>\n",
       "      <td>0</td>\n",
       "      <td>0</td>\n",
       "      <td>0</td>\n",
       "      <td>1</td>\n",
       "      <td>9.16</td>\n",
       "      <td>151266.0</td>\n",
       "      <td>51</td>\n",
       "    </tr>\n",
       "  </tbody>\n",
       "</table>\n",
       "<p>5 rows × 93 columns</p>\n",
       "</div>"
      ],
      "text/plain": [
       "    Adventure   Cars   Comedy   Dementia   Demons   Drama   Ecchi   Fantasy  \\\n",
       "0           0      0        0          0        0       0       0         0   \n",
       "1           1      0        0          0        0       1       0         1   \n",
       "2           0      0        1          0        0       0       0         0   \n",
       "3           0      0        0          0        0       0       0         0   \n",
       "4           0      0        1          0        0       0       0         0   \n",
       "\n",
       "    Game   Harem  ...  type_1  type_Movie  type_Music  type_ONA  type_OVA  \\\n",
       "0      0       0  ...       0           1           0         0         0   \n",
       "1      0       0  ...       0           0           0         0         0   \n",
       "2      0       0  ...       0           0           0         0         0   \n",
       "3      0       0  ...       0           0           0         0         0   \n",
       "4      0       0  ...       0           0           0         0         0   \n",
       "\n",
       "   type_Special  type_TV  rating   members  episodes  \n",
       "0             0        0    9.37  200630.0         1  \n",
       "1             0        1    9.26  793665.0        64  \n",
       "2             0        1    9.25  114262.0        51  \n",
       "3             0        1    9.17  673572.0        24  \n",
       "4             0        1    9.16  151266.0        51  \n",
       "\n",
       "[5 rows x 93 columns]"
      ]
     },
     "execution_count": 94,
     "metadata": {},
     "output_type": "execute_result"
    }
   ],
   "source": [
    "anime_features.head()"
   ]
  },
  {
   "cell_type": "code",
   "execution_count": 95,
   "metadata": {
    "_cell_guid": "a15f6554-c164-ffcb-ac58-88448c4f8ee0"
   },
   "outputs": [
    {
     "data": {
      "text/plain": [
       "Index([' Adventure', ' Cars', ' Comedy', ' Dementia', ' Demons', ' Drama',\n",
       "       ' Ecchi', ' Fantasy', ' Game', ' Harem', ' Hentai', ' Historical',\n",
       "       ' Horror', ' Josei', ' Kids', ' Magic', ' Martial Arts', ' Mecha',\n",
       "       ' Military', ' Music', ' Mystery', ' Parody', ' Police',\n",
       "       ' Psychological', ' Romance', ' Samurai', ' School', ' Sci-Fi',\n",
       "       ' Seinen', ' Shoujo', ' Shoujo Ai', ' Shounen', ' Shounen Ai',\n",
       "       ' Slice of Life', ' Space', ' Sports', ' Super Power', ' Supernatural',\n",
       "       ' Thriller', ' Vampire', ' Yaoi', ' Yuri', '1', 'Action', 'Adventure',\n",
       "       'Cars', 'Comedy', 'Dementia', 'Demons', 'Drama', 'Ecchi', 'Fantasy',\n",
       "       'Game', 'Harem', 'Hentai', 'Historical', 'Horror', 'Josei', 'Kids',\n",
       "       'Magic', 'Martial Arts', 'Mecha', 'Military', 'Music', 'Mystery',\n",
       "       'Parody', 'Police', 'Psychological', 'Romance', 'Samurai', 'School',\n",
       "       'Sci-Fi', 'Seinen', 'Shoujo', 'Shounen', 'Slice of Life', 'Space',\n",
       "       'Sports', 'Super Power', 'Supernatural', 'Thriller', 'Vampire', 'Yaoi',\n",
       "       'type_1', 'type_Movie', 'type_Music', 'type_ONA', 'type_OVA',\n",
       "       'type_Special', 'type_TV', 'rating', 'members', 'episodes'],\n",
       "      dtype='object')"
      ]
     },
     "execution_count": 95,
     "metadata": {},
     "output_type": "execute_result"
    }
   ],
   "source": [
    "anime_features.columns"
   ]
  },
  {
   "cell_type": "code",
   "execution_count": 96,
   "metadata": {
    "_cell_guid": "03c2b28e-9609-96a3-8c67-0ede63d8270f"
   },
   "outputs": [],
   "source": [
    "from sklearn.preprocessing import MaxAbsScaler"
   ]
  },
  {
   "cell_type": "code",
   "execution_count": 97,
   "metadata": {
    "_cell_guid": "c3df9ae1-acdc-d332-68af-31209e1e105b"
   },
   "outputs": [],
   "source": [
    "max_abs_scaler = MaxAbsScaler()\n",
    "anime_features = max_abs_scaler.fit_transform(anime_features)"
   ]
  },
  {
   "cell_type": "markdown",
   "metadata": {
    "_cell_guid": "4750141f-2426-2df0-c799-8353cc20d6d8"
   },
   "source": [
    "# KNN for finding similar animes"
   ]
  },
  {
   "cell_type": "code",
   "execution_count": 98,
   "metadata": {
    "_cell_guid": "a6b43f39-98a6-bf5d-9161-eacad0b88724"
   },
   "outputs": [],
   "source": [
    "from sklearn.neighbors import NearestNeighbors"
   ]
  },
  {
   "cell_type": "code",
   "execution_count": 99,
   "metadata": {
    "_cell_guid": "2ed20de9-e2a9-f5f1-ebce-f1bfb8535a72"
   },
   "outputs": [],
   "source": [
    "nbrs = NearestNeighbors(n_neighbors=8, algorithm='ball_tree').fit(anime_features)"
   ]
  },
  {
   "cell_type": "code",
   "execution_count": 100,
   "metadata": {
    "_cell_guid": "22453726-49fa-1314-5b60-2abd182a2c7b"
   },
   "outputs": [],
   "source": [
    "distances, indices = nbrs.kneighbors(anime_features)"
   ]
  },
  {
   "cell_type": "markdown",
   "metadata": {
    "_cell_guid": "3c110c65-6c5d-6b43-51ff-21ae6629fd3c"
   },
   "source": [
    "# Query examples and helper functions "
   ]
  },
  {
   "cell_type": "code",
   "execution_count": 101,
   "metadata": {
    "_cell_guid": "5b52cb95-5d63-7da2-c40e-9e5845e5d2c9"
   },
   "outputs": [],
   "source": [
    "def get_index_from_name(name):\n",
    "    return anime_infos[anime_infos[\"name\"]==name].index.tolist()[0]\n",
    "def get_index_from_id(anime_id):\n",
    "    return anime_infos[anime_infos[\"anime_id\"]==anime_id].index.tolist()[0]"
   ]
  },
  {
   "cell_type": "code",
   "execution_count": 102,
   "metadata": {
    "_cell_guid": "38f407f6-00b4-8369-e51f-9e2d701a274e"
   },
   "outputs": [
    {
     "data": {
      "text/plain": [
       "841"
      ]
     },
     "execution_count": 102,
     "metadata": {},
     "output_type": "execute_result"
    }
   ],
   "source": [
    "get_index_from_name(\"Naruto\")"
   ]
  },
  {
   "cell_type": "code",
   "execution_count": 129,
   "metadata": {},
   "outputs": [
    {
     "data": {
      "text/plain": [
       "array([ 841,  615,  175,  582,  206,  178, 1584,  260], dtype=int64)"
      ]
     },
     "execution_count": 129,
     "metadata": {},
     "output_type": "execute_result"
    }
   ],
   "source": [
    "indices[841]"
   ]
  },
  {
   "cell_type": "markdown",
   "metadata": {
    "_cell_guid": "a167a16c-3f8f-e8b6-34e4-03df89f5fac7"
   },
   "source": [
    "Many anime names have not been documented properly and in many cases the names are in Japanese instead of English and the spelling is often different. For that reason I've also created another helper function ```get_id_from_partial_name``` to find out ids of the animes from part of names."
   ]
  },
  {
   "cell_type": "code",
   "execution_count": 103,
   "metadata": {
    "_cell_guid": "e915d77a-2f2a-d2e2-3d20-d9ee6dae15f4"
   },
   "outputs": [],
   "source": [
    "all_anime_names = list(anime_infos.name.values)"
   ]
  },
  {
   "cell_type": "code",
   "execution_count": 104,
   "metadata": {
    "_cell_guid": "e483caf0-8649-136d-80f1-58ddc5203e48"
   },
   "outputs": [],
   "source": [
    "def get_id_from_partial_name(partial):\n",
    "    for name in all_anime_names:\n",
    "        if partial in name:\n",
    "            print(name,all_anime_names.index(name))"
   ]
  },
  {
   "cell_type": "code",
   "execution_count": 148,
   "metadata": {
    "_cell_guid": "97c389f8-4b5c-64eb-496e-02ed661b4378"
   },
   "outputs": [],
   "source": [
    "\"\"\" print_similar_query can search for similar animes both by id and by name. \"\"\"\n",
    "\n",
    "def print_similar_animes(name = None, anime_id = None):\n",
    "    if anime_id:\n",
    "        id = anime_infos.index[anime_infos['anime_id'] == anime_id].tolist()\n",
    "        id = id[0]\n",
    "        for idx in indices[id][1:]:\n",
    "            print(idx)\n",
    "            print(anime_infos.loc[idx][\"name\"])\n",
    "    elif name:\n",
    "        found_id = get_index_from_name(name)\n",
    "        for idx in indices[found_id][1:]:\n",
    "            print(anime_infos.loc[idx][\"name\"])"
   ]
  },
  {
   "cell_type": "code",
   "execution_count": 115,
   "metadata": {},
   "outputs": [],
   "source": [
    "def get_anime_name(anime_id):\n",
    "    anime_name = anime_infos[anime_infos[\"anime_id\"] == anime_id][\"name\"]\n",
    "    return \"\" if len(anime_name) == 0 else anime_name.values[0]"
   ]
  },
  {
   "cell_type": "code",
   "execution_count": 163,
   "metadata": {},
   "outputs": [],
   "source": [
    "def get_anime_rating(anime_id):\n",
    "    rating = my_ratings_copy[my_ratings_copy[\"anime_id\"] == anime_id][\"rating\"]\n",
    "    return 0 if len(rating) == 0 or rating.values[0] == -1 else rating.values[0]"
   ]
  },
  {
   "cell_type": "code",
   "execution_count": 130,
   "metadata": {},
   "outputs": [],
   "source": [
    "def get_all_anime_ids():\n",
    "    return set(anime_infos.anime_id.values)"
   ]
  },
  {
   "cell_type": "code",
   "execution_count": 156,
   "metadata": {},
   "outputs": [
    {
     "data": {
      "text/plain": [
       "0"
      ]
     },
     "execution_count": 156,
     "metadata": {},
     "output_type": "execute_result"
    }
   ],
   "source": [
    "def get_anime_idx_by_id(anime_id):\n",
    "    return anime_infos.index[anime_infos[\"anime_id\"] == anime_id][0]"
   ]
  },
  {
   "cell_type": "markdown",
   "metadata": {
    "_cell_guid": "53d59815-7adb-f386-1a3d-99100e6bb5bb"
   },
   "source": [
    "# Query Examples "
   ]
  },
  {
   "cell_type": "markdown",
   "metadata": {
    "_cell_guid": "4f61062f-b01f-748a-66e5-1372c5aed880"
   },
   "source": [
    "Kimi No Na Wa is a super popular movie that won many awards. All the recommendations for this movie is really good. I've seen Harmonie and Hotarubi no Mori e and can absolutely say both are amazing. The 1st recommendation also seems highly rated in IMDB and a fantasy film. Air + Clannad is also highly rated. \n",
    "\n",
    "See the wallpaper from Your name  vs the 1st choice \"Kokoro ga Sakebitagatterunda\". Both are school life based fantasy films focusing on romance.\n",
    "\n",
    "\n",
    "![](https://images-na.ssl-images-amazon.com/images/M/MV5BODRmZDVmNzUtZDA4ZC00NjhkLWI2M2UtN2M0ZDIzNDcxYThjL2ltYWdlXkEyXkFqcGdeQXVyNTk0MzMzODA@._V1_UY1200_CR90,0,630,1200_AL_.jpg)\n",
    "\n",
    "\n",
    "![](https://i.ytimg.com/vi/fnD8ABI4JrQ/maxresdefault.jpg)"
   ]
  },
  {
   "cell_type": "code",
   "execution_count": 149,
   "metadata": {
    "_cell_guid": "41b89978-58e4-84c9-232d-7272e33cfd91"
   },
   "outputs": [
    {
     "name": "stdout",
     "output_type": "stream",
     "text": [
      "0\n",
      "Kimi no Na wa.\n",
      "208\n",
      "Kokoro ga Sakebitagatterunda.\n",
      "1494\n",
      "Harmonie\n",
      "1959\n",
      "Air Movie\n",
      "60\n",
      "Hotarubi no Mori e\n",
      "2103\n",
      "Clannad Movie\n",
      "894\n",
      "Momo e no Tegami\n",
      "1199\n",
      "&quot;Bungaku Shoujo&quot; Movie\n"
     ]
    }
   ],
   "source": [
    "print_similar_animes(anime_id = 32281)"
   ]
  },
  {
   "cell_type": "code",
   "execution_count": 117,
   "metadata": {
    "_cell_guid": "40e1210f-5325-f9ce-1450-37995989e54b"
   },
   "outputs": [
    {
     "name": "stdout",
     "output_type": "stream",
     "text": [
      "Noragami Aragoto\n",
      "JoJo no Kimyou na Bouken (TV)\n",
      "JoJo no Kimyou na Bouken: Stardust Crusaders\n",
      "JoJo no Kimyou na Bouken: Stardust Crusaders 2nd Season\n",
      "Yumekui Merry\n",
      "Allison to Lillia\n",
      "Dororo to Hyakkimaru\n"
     ]
    }
   ],
   "source": [
    "print_similar_animes(\"Noragami\")"
   ]
  },
  {
   "cell_type": "code",
   "execution_count": 118,
   "metadata": {
    "_cell_guid": "3ac58ce1-2be8-0769-53cd-faaa05c44891"
   },
   "outputs": [
    {
     "name": "stdout",
     "output_type": "stream",
     "text": [
      "Mushishi Zoku Shou\n",
      "Mushishi Zoku Shou 2nd Season\n",
      "Mushishi Special: Hihamukage\n",
      "Mushishi Zoku Shou: Odoro no Michi\n",
      "Mushishi Zoku Shou: Suzu no Shizuku\n",
      "Pandora Hearts\n",
      "Mononoke\n"
     ]
    }
   ],
   "source": [
    "print_similar_animes(\"Mushishi\")"
   ]
  },
  {
   "cell_type": "code",
   "execution_count": 119,
   "metadata": {
    "_cell_guid": "36fa151f-ccc6-6893-7a3c-ca4d9a94e90b"
   },
   "outputs": [
    {
     "name": "stdout",
     "output_type": "stream",
     "text": [
      "Gintama&#039;\n",
      "Gintama°\n",
      "Gintama&#039;: Enchousen\n",
      "Gintama (2017)\n",
      "Gintama Movie: Kanketsu-hen - Yorozuya yo Eien Nare\n",
      "Gintama Movie: Shinyaku Benizakura-hen\n",
      "Gintama: Yorinuki Gintama-san on Theater 2D\n"
     ]
    }
   ],
   "source": [
    "print_similar_animes(\"Gintama\")"
   ]
  },
  {
   "cell_type": "code",
   "execution_count": 120,
   "metadata": {
    "_cell_guid": "39272768-a4d0-db4c-6622-dc9161ead78a"
   },
   "outputs": [
    {
     "name": "stdout",
     "output_type": "stream",
     "text": [
      "Fairy Tail (2014)\n",
      "Magi: The Labyrinth of Magic\n",
      "Magi: The Kingdom of Magic\n",
      "Densetsu no Yuusha no Densetsu\n",
      "Magi: Sinbad no Bouken (TV)\n",
      "Toriko\n",
      "MÄR\n"
     ]
    }
   ],
   "source": [
    "print_similar_animes(\"Fairy Tail\")"
   ]
  },
  {
   "cell_type": "code",
   "execution_count": 121,
   "metadata": {
    "_cell_guid": "f36d223d-a6a7-fa53-0078-707262a648fb"
   },
   "outputs": [
    {
     "name": "stdout",
     "output_type": "stream",
     "text": [
      "Yahari Ore no Seishun Love Comedy wa Machigatteiru.\n",
      "Kotoura-san\n",
      "Otome wa Boku ni Koishiteru\n",
      "Gekkan Shoujo Nozaki-kun\n",
      "Chuunibyou demo Koi ga Shitai! Ren\n",
      "Ore no Nounai Sentakushi ga, Gakuen Love Comedy wo Zenryoku de Jama Shiteiru\n",
      "Onegai☆Teacher\n"
     ]
    }
   ],
   "source": [
    "print_similar_animes(anime_id=23847)"
   ]
  },
  {
   "cell_type": "markdown",
   "metadata": {
    "_cell_guid": "cc131d70-58e7-3e2f-e81a-4953b7f6b21f"
   },
   "source": [
    "<b>3.</b> Kimi no Na wa (Your Name)\n",
    "\n"
   ]
  },
  {
   "cell_type": "markdown",
   "metadata": {
    "_cell_guid": "098f7a90-34c5-4e36-ccbf-f04c34c8e77a"
   },
   "source": [
    "# Algorithm goes vroom time"
   ]
  },
  {
   "cell_type": "code",
   "execution_count": 172,
   "metadata": {},
   "outputs": [
    {
     "data": {
      "text/html": [
       "<div>\n",
       "<style scoped>\n",
       "    .dataframe tbody tr th:only-of-type {\n",
       "        vertical-align: middle;\n",
       "    }\n",
       "\n",
       "    .dataframe tbody tr th {\n",
       "        vertical-align: top;\n",
       "    }\n",
       "\n",
       "    .dataframe thead th {\n",
       "        text-align: right;\n",
       "    }\n",
       "</style>\n",
       "<table border=\"1\" class=\"dataframe\">\n",
       "  <thead>\n",
       "    <tr style=\"text-align: right;\">\n",
       "      <th></th>\n",
       "      <th>anime_id</th>\n",
       "      <th>rating</th>\n",
       "      <th>name</th>\n",
       "    </tr>\n",
       "  </thead>\n",
       "  <tbody>\n",
       "    <tr>\n",
       "      <th>0</th>\n",
       "      <td>23847</td>\n",
       "      <td>10</td>\n",
       "      <td>Yahari Ore no Seishun Love Comedy wa Machigatt...</td>\n",
       "    </tr>\n",
       "    <tr>\n",
       "      <th>1</th>\n",
       "      <td>14813</td>\n",
       "      <td>10</td>\n",
       "      <td>Yahari Ore no Seishun Love Comedy wa Machigatt...</td>\n",
       "    </tr>\n",
       "    <tr>\n",
       "      <th>2</th>\n",
       "      <td>12403</td>\n",
       "      <td>10</td>\n",
       "      <td>Yuru Yuri♪♪</td>\n",
       "    </tr>\n",
       "    <tr>\n",
       "      <th>3</th>\n",
       "      <td>30902</td>\n",
       "      <td>10</td>\n",
       "      <td>Yuru Yuri Nachuyachumi!+</td>\n",
       "    </tr>\n",
       "    <tr>\n",
       "      <th>4</th>\n",
       "      <td>30279</td>\n",
       "      <td>10</td>\n",
       "      <td>Yuru Yuri San☆Hai!</td>\n",
       "    </tr>\n",
       "    <tr>\n",
       "      <th>5</th>\n",
       "      <td>10495</td>\n",
       "      <td>10</td>\n",
       "      <td>Yuru Yuri</td>\n",
       "    </tr>\n",
       "    <tr>\n",
       "      <th>6</th>\n",
       "      <td>5909</td>\n",
       "      <td>8</td>\n",
       "      <td>Seitokai no Ichizon</td>\n",
       "    </tr>\n",
       "    <tr>\n",
       "      <th>7</th>\n",
       "      <td>10464</td>\n",
       "      <td>8</td>\n",
       "      <td>Seitokai no Ichizon Lv.2</td>\n",
       "    </tr>\n",
       "    <tr>\n",
       "      <th>8</th>\n",
       "      <td>32603</td>\n",
       "      <td>8</td>\n",
       "      <td>Okusama ga Seitokaichou!+!</td>\n",
       "    </tr>\n",
       "    <tr>\n",
       "      <th>9</th>\n",
       "      <td>20847</td>\n",
       "      <td>10</td>\n",
       "      <td>Seitokai Yakuindomo*</td>\n",
       "    </tr>\n",
       "    <tr>\n",
       "      <th>10</th>\n",
       "      <td>8675</td>\n",
       "      <td>10</td>\n",
       "      <td>Seitokai Yakuindomo</td>\n",
       "    </tr>\n",
       "    <tr>\n",
       "      <th>11</th>\n",
       "      <td>13759</td>\n",
       "      <td>8</td>\n",
       "      <td>Sakurasou no Pet na Kanojo</td>\n",
       "    </tr>\n",
       "    <tr>\n",
       "      <th>12</th>\n",
       "      <td>14749</td>\n",
       "      <td>9</td>\n",
       "      <td>Ore no Kanojo to Osananajimi ga Shuraba Sugiru</td>\n",
       "    </tr>\n",
       "    <tr>\n",
       "      <th>13</th>\n",
       "      <td>19221</td>\n",
       "      <td>7</td>\n",
       "      <td>Ore no Nounai Sentakushi ga, Gakuen Love Comed...</td>\n",
       "    </tr>\n",
       "    <tr>\n",
       "      <th>14</th>\n",
       "      <td>30296</td>\n",
       "      <td>7</td>\n",
       "      <td>Rakudai Kishi no Cavalry</td>\n",
       "    </tr>\n",
       "    <tr>\n",
       "      <th>15</th>\n",
       "      <td>25099</td>\n",
       "      <td>8</td>\n",
       "      <td>Ore ga Ojousama Gakkou ni &amp;quot;Shomin Sample&amp;...</td>\n",
       "    </tr>\n",
       "    <tr>\n",
       "      <th>16</th>\n",
       "      <td>14199</td>\n",
       "      <td>9</td>\n",
       "      <td>Oniichan dakedo Ai Sae Areba Kankeinai yo ne!</td>\n",
       "    </tr>\n",
       "    <tr>\n",
       "      <th>17</th>\n",
       "      <td>6512</td>\n",
       "      <td>7</td>\n",
       "      <td>Nyan Koi!</td>\n",
       "    </tr>\n",
       "    <tr>\n",
       "      <th>18</th>\n",
       "      <td>18897</td>\n",
       "      <td>10</td>\n",
       "      <td>Nisekoi</td>\n",
       "    </tr>\n",
       "    <tr>\n",
       "      <th>19</th>\n",
       "      <td>27787</td>\n",
       "      <td>10</td>\n",
       "      <td>Nisekoi:</td>\n",
       "    </tr>\n",
       "    <tr>\n",
       "      <th>20</th>\n",
       "      <td>17549</td>\n",
       "      <td>9</td>\n",
       "      <td>Non Non Biyori</td>\n",
       "    </tr>\n",
       "    <tr>\n",
       "      <th>21</th>\n",
       "      <td>23623</td>\n",
       "      <td>9</td>\n",
       "      <td>Non Non Biyori Repeat</td>\n",
       "    </tr>\n",
       "    <tr>\n",
       "      <th>22</th>\n",
       "      <td>32547</td>\n",
       "      <td>9</td>\n",
       "      <td>Non Non Biyori Repeat OVA</td>\n",
       "    </tr>\n",
       "    <tr>\n",
       "      <th>23</th>\n",
       "      <td>31404</td>\n",
       "      <td>9</td>\n",
       "      <td>Netoge no Yome wa Onnanoko ja Nai to Omotta?</td>\n",
       "    </tr>\n",
       "    <tr>\n",
       "      <th>24</th>\n",
       "      <td>10110</td>\n",
       "      <td>8</td>\n",
       "      <td>Mayo Chiki!</td>\n",
       "    </tr>\n",
       "    <tr>\n",
       "      <th>25</th>\n",
       "      <td>33487</td>\n",
       "      <td>6</td>\n",
       "      <td>Masamune-kun no Revenge</td>\n",
       "    </tr>\n",
       "    <tr>\n",
       "      <th>26</th>\n",
       "      <td>30831</td>\n",
       "      <td>9</td>\n",
       "      <td>Kono Subarashii Sekai ni Shukufuku wo!</td>\n",
       "    </tr>\n",
       "    <tr>\n",
       "      <th>27</th>\n",
       "      <td>32937</td>\n",
       "      <td>9</td>\n",
       "      <td>Kono Subarashii Sekai ni Shukufuku wo! 2</td>\n",
       "    </tr>\n",
       "    <tr>\n",
       "      <th>28</th>\n",
       "      <td>9041</td>\n",
       "      <td>9</td>\n",
       "      <td>IS: Infinite Stratos</td>\n",
       "    </tr>\n",
       "    <tr>\n",
       "      <th>29</th>\n",
       "      <td>18247</td>\n",
       "      <td>9</td>\n",
       "      <td>IS: Infinite Stratos 2</td>\n",
       "    </tr>\n",
       "    <tr>\n",
       "      <th>30</th>\n",
       "      <td>25159</td>\n",
       "      <td>10</td>\n",
       "      <td>Inou-Battle wa Nichijou-kei no Naka de</td>\n",
       "    </tr>\n",
       "    <tr>\n",
       "      <th>31</th>\n",
       "      <td>15225</td>\n",
       "      <td>7</td>\n",
       "      <td>Hentai Ouji to Warawanai Neko.</td>\n",
       "    </tr>\n",
       "    <tr>\n",
       "      <th>32</th>\n",
       "      <td>11785</td>\n",
       "      <td>8</td>\n",
       "      <td>Haiyore! Nyaruko-san</td>\n",
       "    </tr>\n",
       "    <tr>\n",
       "      <th>33</th>\n",
       "      <td>15699</td>\n",
       "      <td>8</td>\n",
       "      <td>Haiyore! Nyaruko-san W</td>\n",
       "    </tr>\n",
       "    <tr>\n",
       "      <th>34</th>\n",
       "      <td>10719</td>\n",
       "      <td>10</td>\n",
       "      <td>Boku wa Tomodachi ga Sukunai</td>\n",
       "    </tr>\n",
       "    <tr>\n",
       "      <th>35</th>\n",
       "      <td>14967</td>\n",
       "      <td>10</td>\n",
       "      <td>Boku wa Tomodachi ga Sukunai Next</td>\n",
       "    </tr>\n",
       "    <tr>\n",
       "      <th>36</th>\n",
       "      <td>23723</td>\n",
       "      <td>9</td>\n",
       "      <td>Teppen</td>\n",
       "    </tr>\n",
       "    <tr>\n",
       "      <th>37</th>\n",
       "      <td>32281</td>\n",
       "      <td>10</td>\n",
       "      <td>Kimi no Na wa.</td>\n",
       "    </tr>\n",
       "    <tr>\n",
       "      <th>38</th>\n",
       "      <td>28851</td>\n",
       "      <td>10</td>\n",
       "      <td>Koe no Katachi</td>\n",
       "    </tr>\n",
       "    <tr>\n",
       "      <th>39</th>\n",
       "      <td>4224</td>\n",
       "      <td>10</td>\n",
       "      <td>Toradora!</td>\n",
       "    </tr>\n",
       "    <tr>\n",
       "      <th>40</th>\n",
       "      <td>7791</td>\n",
       "      <td>10</td>\n",
       "      <td>K-On!!</td>\n",
       "    </tr>\n",
       "    <tr>\n",
       "      <th>41</th>\n",
       "      <td>5680</td>\n",
       "      <td>10</td>\n",
       "      <td>K-On!</td>\n",
       "    </tr>\n",
       "    <tr>\n",
       "      <th>42</th>\n",
       "      <td>1195</td>\n",
       "      <td>7</td>\n",
       "      <td>Zero no Tsukaima</td>\n",
       "    </tr>\n",
       "    <tr>\n",
       "      <th>43</th>\n",
       "      <td>1535</td>\n",
       "      <td>1</td>\n",
       "      <td>Death Note</td>\n",
       "    </tr>\n",
       "    <tr>\n",
       "      <th>44</th>\n",
       "      <td>13601</td>\n",
       "      <td>1</td>\n",
       "      <td>Psycho-Pass</td>\n",
       "    </tr>\n",
       "    <tr>\n",
       "      <th>45</th>\n",
       "      <td>16498</td>\n",
       "      <td>1</td>\n",
       "      <td>Shingeki no Kyojin</td>\n",
       "    </tr>\n",
       "    <tr>\n",
       "      <th>46</th>\n",
       "      <td>20</td>\n",
       "      <td>1</td>\n",
       "      <td>Naruto</td>\n",
       "    </tr>\n",
       "    <tr>\n",
       "      <th>47</th>\n",
       "      <td>31964</td>\n",
       "      <td>1</td>\n",
       "      <td>Boku no Hero Academia</td>\n",
       "    </tr>\n",
       "    <tr>\n",
       "      <th>48</th>\n",
       "      <td>25777</td>\n",
       "      <td>1</td>\n",
       "      <td>Shingeki no Kyojin Season 2</td>\n",
       "    </tr>\n",
       "    <tr>\n",
       "      <th>49</th>\n",
       "      <td>8525</td>\n",
       "      <td>5</td>\n",
       "      <td>Kami nomi zo Shiru Sekai</td>\n",
       "    </tr>\n",
       "    <tr>\n",
       "      <th>50</th>\n",
       "      <td>12117</td>\n",
       "      <td>1</td>\n",
       "      <td>Detective Conan Movie 16: The Eleventh Striker</td>\n",
       "    </tr>\n",
       "  </tbody>\n",
       "</table>\n",
       "</div>"
      ],
      "text/plain": [
       "    anime_id  rating                                               name\n",
       "0      23847      10  Yahari Ore no Seishun Love Comedy wa Machigatt...\n",
       "1      14813      10  Yahari Ore no Seishun Love Comedy wa Machigatt...\n",
       "2      12403      10                                        Yuru Yuri♪♪\n",
       "3      30902      10                           Yuru Yuri Nachuyachumi!+\n",
       "4      30279      10                                 Yuru Yuri San☆Hai!\n",
       "5      10495      10                                          Yuru Yuri\n",
       "6       5909       8                                Seitokai no Ichizon\n",
       "7      10464       8                           Seitokai no Ichizon Lv.2\n",
       "8      32603       8                         Okusama ga Seitokaichou!+!\n",
       "9      20847      10                               Seitokai Yakuindomo*\n",
       "10      8675      10                                Seitokai Yakuindomo\n",
       "11     13759       8                         Sakurasou no Pet na Kanojo\n",
       "12     14749       9     Ore no Kanojo to Osananajimi ga Shuraba Sugiru\n",
       "13     19221       7  Ore no Nounai Sentakushi ga, Gakuen Love Comed...\n",
       "14     30296       7                           Rakudai Kishi no Cavalry\n",
       "15     25099       8  Ore ga Ojousama Gakkou ni &quot;Shomin Sample&...\n",
       "16     14199       9      Oniichan dakedo Ai Sae Areba Kankeinai yo ne!\n",
       "17      6512       7                                          Nyan Koi!\n",
       "18     18897      10                                            Nisekoi\n",
       "19     27787      10                                           Nisekoi:\n",
       "20     17549       9                                     Non Non Biyori\n",
       "21     23623       9                              Non Non Biyori Repeat\n",
       "22     32547       9                          Non Non Biyori Repeat OVA\n",
       "23     31404       9       Netoge no Yome wa Onnanoko ja Nai to Omotta?\n",
       "24     10110       8                                        Mayo Chiki!\n",
       "25     33487       6                            Masamune-kun no Revenge\n",
       "26     30831       9             Kono Subarashii Sekai ni Shukufuku wo!\n",
       "27     32937       9           Kono Subarashii Sekai ni Shukufuku wo! 2\n",
       "28      9041       9                               IS: Infinite Stratos\n",
       "29     18247       9                             IS: Infinite Stratos 2\n",
       "30     25159      10             Inou-Battle wa Nichijou-kei no Naka de\n",
       "31     15225       7                     Hentai Ouji to Warawanai Neko.\n",
       "32     11785       8                               Haiyore! Nyaruko-san\n",
       "33     15699       8                             Haiyore! Nyaruko-san W\n",
       "34     10719      10                       Boku wa Tomodachi ga Sukunai\n",
       "35     14967      10                  Boku wa Tomodachi ga Sukunai Next\n",
       "36     23723       9                                             Teppen\n",
       "37     32281      10                                     Kimi no Na wa.\n",
       "38     28851      10                                     Koe no Katachi\n",
       "39      4224      10                                          Toradora!\n",
       "40      7791      10                                             K-On!!\n",
       "41      5680      10                                              K-On!\n",
       "42      1195       7                                   Zero no Tsukaima\n",
       "43      1535       1                                         Death Note\n",
       "44     13601       1                                        Psycho-Pass\n",
       "45     16498       1                                 Shingeki no Kyojin\n",
       "46        20       1                                             Naruto\n",
       "47     31964       1                              Boku no Hero Academia\n",
       "48     25777       1                        Shingeki no Kyojin Season 2\n",
       "49      8525       5                           Kami nomi zo Shiru Sekai\n",
       "50     12117       1     Detective Conan Movie 16: The Eleventh Striker"
      ]
     },
     "execution_count": 172,
     "metadata": {},
     "output_type": "execute_result"
    }
   ],
   "source": [
    "my_ratings[\"name\"] = my_ratings.apply (lambda row: get_anime_name(row[\"anime_id\"]), axis=1)\n",
    "my_ratings_copy = my_ratings.copy()\n",
    "my_ratings"
   ]
  },
  {
   "cell_type": "code",
   "execution_count": 173,
   "metadata": {},
   "outputs": [
    {
     "data": {
      "text/html": [
       "<div>\n",
       "<style scoped>\n",
       "    .dataframe tbody tr th:only-of-type {\n",
       "        vertical-align: middle;\n",
       "    }\n",
       "\n",
       "    .dataframe tbody tr th {\n",
       "        vertical-align: top;\n",
       "    }\n",
       "\n",
       "    .dataframe thead th {\n",
       "        text-align: right;\n",
       "    }\n",
       "</style>\n",
       "<table border=\"1\" class=\"dataframe\">\n",
       "  <thead>\n",
       "    <tr style=\"text-align: right;\">\n",
       "      <th></th>\n",
       "      <th>anime_id</th>\n",
       "      <th>rating</th>\n",
       "      <th>name</th>\n",
       "    </tr>\n",
       "  </thead>\n",
       "  <tbody>\n",
       "    <tr>\n",
       "      <th>0</th>\n",
       "      <td>23847</td>\n",
       "      <td>10</td>\n",
       "      <td>Yahari Ore no Seishun Love Comedy wa Machigatt...</td>\n",
       "    </tr>\n",
       "    <tr>\n",
       "      <th>1</th>\n",
       "      <td>14813</td>\n",
       "      <td>10</td>\n",
       "      <td>Yahari Ore no Seishun Love Comedy wa Machigatt...</td>\n",
       "    </tr>\n",
       "    <tr>\n",
       "      <th>2</th>\n",
       "      <td>12403</td>\n",
       "      <td>10</td>\n",
       "      <td>Yuru Yuri♪♪</td>\n",
       "    </tr>\n",
       "    <tr>\n",
       "      <th>3</th>\n",
       "      <td>30902</td>\n",
       "      <td>10</td>\n",
       "      <td>Yuru Yuri Nachuyachumi!+</td>\n",
       "    </tr>\n",
       "    <tr>\n",
       "      <th>4</th>\n",
       "      <td>30279</td>\n",
       "      <td>10</td>\n",
       "      <td>Yuru Yuri San☆Hai!</td>\n",
       "    </tr>\n",
       "    <tr>\n",
       "      <th>5</th>\n",
       "      <td>10495</td>\n",
       "      <td>10</td>\n",
       "      <td>Yuru Yuri</td>\n",
       "    </tr>\n",
       "    <tr>\n",
       "      <th>6</th>\n",
       "      <td>5909</td>\n",
       "      <td>8</td>\n",
       "      <td>Seitokai no Ichizon</td>\n",
       "    </tr>\n",
       "    <tr>\n",
       "      <th>7</th>\n",
       "      <td>10464</td>\n",
       "      <td>8</td>\n",
       "      <td>Seitokai no Ichizon Lv.2</td>\n",
       "    </tr>\n",
       "    <tr>\n",
       "      <th>8</th>\n",
       "      <td>32603</td>\n",
       "      <td>8</td>\n",
       "      <td>Okusama ga Seitokaichou!+!</td>\n",
       "    </tr>\n",
       "    <tr>\n",
       "      <th>9</th>\n",
       "      <td>20847</td>\n",
       "      <td>10</td>\n",
       "      <td>Seitokai Yakuindomo*</td>\n",
       "    </tr>\n",
       "    <tr>\n",
       "      <th>10</th>\n",
       "      <td>8675</td>\n",
       "      <td>10</td>\n",
       "      <td>Seitokai Yakuindomo</td>\n",
       "    </tr>\n",
       "    <tr>\n",
       "      <th>11</th>\n",
       "      <td>13759</td>\n",
       "      <td>8</td>\n",
       "      <td>Sakurasou no Pet na Kanojo</td>\n",
       "    </tr>\n",
       "    <tr>\n",
       "      <th>12</th>\n",
       "      <td>14749</td>\n",
       "      <td>9</td>\n",
       "      <td>Ore no Kanojo to Osananajimi ga Shuraba Sugiru</td>\n",
       "    </tr>\n",
       "    <tr>\n",
       "      <th>13</th>\n",
       "      <td>19221</td>\n",
       "      <td>7</td>\n",
       "      <td>Ore no Nounai Sentakushi ga, Gakuen Love Comed...</td>\n",
       "    </tr>\n",
       "    <tr>\n",
       "      <th>14</th>\n",
       "      <td>30296</td>\n",
       "      <td>7</td>\n",
       "      <td>Rakudai Kishi no Cavalry</td>\n",
       "    </tr>\n",
       "    <tr>\n",
       "      <th>15</th>\n",
       "      <td>25099</td>\n",
       "      <td>8</td>\n",
       "      <td>Ore ga Ojousama Gakkou ni &amp;quot;Shomin Sample&amp;...</td>\n",
       "    </tr>\n",
       "    <tr>\n",
       "      <th>16</th>\n",
       "      <td>14199</td>\n",
       "      <td>9</td>\n",
       "      <td>Oniichan dakedo Ai Sae Areba Kankeinai yo ne!</td>\n",
       "    </tr>\n",
       "    <tr>\n",
       "      <th>17</th>\n",
       "      <td>6512</td>\n",
       "      <td>7</td>\n",
       "      <td>Nyan Koi!</td>\n",
       "    </tr>\n",
       "    <tr>\n",
       "      <th>18</th>\n",
       "      <td>18897</td>\n",
       "      <td>10</td>\n",
       "      <td>Nisekoi</td>\n",
       "    </tr>\n",
       "    <tr>\n",
       "      <th>19</th>\n",
       "      <td>27787</td>\n",
       "      <td>10</td>\n",
       "      <td>Nisekoi:</td>\n",
       "    </tr>\n",
       "    <tr>\n",
       "      <th>20</th>\n",
       "      <td>17549</td>\n",
       "      <td>9</td>\n",
       "      <td>Non Non Biyori</td>\n",
       "    </tr>\n",
       "    <tr>\n",
       "      <th>21</th>\n",
       "      <td>23623</td>\n",
       "      <td>9</td>\n",
       "      <td>Non Non Biyori Repeat</td>\n",
       "    </tr>\n",
       "    <tr>\n",
       "      <th>22</th>\n",
       "      <td>32547</td>\n",
       "      <td>9</td>\n",
       "      <td>Non Non Biyori Repeat OVA</td>\n",
       "    </tr>\n",
       "    <tr>\n",
       "      <th>23</th>\n",
       "      <td>31404</td>\n",
       "      <td>9</td>\n",
       "      <td>Netoge no Yome wa Onnanoko ja Nai to Omotta?</td>\n",
       "    </tr>\n",
       "    <tr>\n",
       "      <th>24</th>\n",
       "      <td>10110</td>\n",
       "      <td>8</td>\n",
       "      <td>Mayo Chiki!</td>\n",
       "    </tr>\n",
       "    <tr>\n",
       "      <th>25</th>\n",
       "      <td>33487</td>\n",
       "      <td>6</td>\n",
       "      <td>Masamune-kun no Revenge</td>\n",
       "    </tr>\n",
       "    <tr>\n",
       "      <th>26</th>\n",
       "      <td>30831</td>\n",
       "      <td>9</td>\n",
       "      <td>Kono Subarashii Sekai ni Shukufuku wo!</td>\n",
       "    </tr>\n",
       "    <tr>\n",
       "      <th>27</th>\n",
       "      <td>32937</td>\n",
       "      <td>9</td>\n",
       "      <td>Kono Subarashii Sekai ni Shukufuku wo! 2</td>\n",
       "    </tr>\n",
       "    <tr>\n",
       "      <th>28</th>\n",
       "      <td>9041</td>\n",
       "      <td>9</td>\n",
       "      <td>IS: Infinite Stratos</td>\n",
       "    </tr>\n",
       "    <tr>\n",
       "      <th>29</th>\n",
       "      <td>18247</td>\n",
       "      <td>9</td>\n",
       "      <td>IS: Infinite Stratos 2</td>\n",
       "    </tr>\n",
       "    <tr>\n",
       "      <th>30</th>\n",
       "      <td>25159</td>\n",
       "      <td>10</td>\n",
       "      <td>Inou-Battle wa Nichijou-kei no Naka de</td>\n",
       "    </tr>\n",
       "    <tr>\n",
       "      <th>31</th>\n",
       "      <td>15225</td>\n",
       "      <td>7</td>\n",
       "      <td>Hentai Ouji to Warawanai Neko.</td>\n",
       "    </tr>\n",
       "    <tr>\n",
       "      <th>32</th>\n",
       "      <td>11785</td>\n",
       "      <td>8</td>\n",
       "      <td>Haiyore! Nyaruko-san</td>\n",
       "    </tr>\n",
       "    <tr>\n",
       "      <th>33</th>\n",
       "      <td>15699</td>\n",
       "      <td>8</td>\n",
       "      <td>Haiyore! Nyaruko-san W</td>\n",
       "    </tr>\n",
       "    <tr>\n",
       "      <th>34</th>\n",
       "      <td>10719</td>\n",
       "      <td>10</td>\n",
       "      <td>Boku wa Tomodachi ga Sukunai</td>\n",
       "    </tr>\n",
       "    <tr>\n",
       "      <th>35</th>\n",
       "      <td>14967</td>\n",
       "      <td>10</td>\n",
       "      <td>Boku wa Tomodachi ga Sukunai Next</td>\n",
       "    </tr>\n",
       "    <tr>\n",
       "      <th>36</th>\n",
       "      <td>23723</td>\n",
       "      <td>9</td>\n",
       "      <td>Teppen</td>\n",
       "    </tr>\n",
       "    <tr>\n",
       "      <th>37</th>\n",
       "      <td>32281</td>\n",
       "      <td>10</td>\n",
       "      <td>Kimi no Na wa.</td>\n",
       "    </tr>\n",
       "    <tr>\n",
       "      <th>38</th>\n",
       "      <td>28851</td>\n",
       "      <td>10</td>\n",
       "      <td>Koe no Katachi</td>\n",
       "    </tr>\n",
       "    <tr>\n",
       "      <th>39</th>\n",
       "      <td>4224</td>\n",
       "      <td>10</td>\n",
       "      <td>Toradora!</td>\n",
       "    </tr>\n",
       "    <tr>\n",
       "      <th>40</th>\n",
       "      <td>7791</td>\n",
       "      <td>10</td>\n",
       "      <td>K-On!!</td>\n",
       "    </tr>\n",
       "    <tr>\n",
       "      <th>41</th>\n",
       "      <td>5680</td>\n",
       "      <td>10</td>\n",
       "      <td>K-On!</td>\n",
       "    </tr>\n",
       "    <tr>\n",
       "      <th>42</th>\n",
       "      <td>1195</td>\n",
       "      <td>7</td>\n",
       "      <td>Zero no Tsukaima</td>\n",
       "    </tr>\n",
       "    <tr>\n",
       "      <th>43</th>\n",
       "      <td>1535</td>\n",
       "      <td>1</td>\n",
       "      <td>Death Note</td>\n",
       "    </tr>\n",
       "    <tr>\n",
       "      <th>44</th>\n",
       "      <td>13601</td>\n",
       "      <td>1</td>\n",
       "      <td>Psycho-Pass</td>\n",
       "    </tr>\n",
       "    <tr>\n",
       "      <th>45</th>\n",
       "      <td>16498</td>\n",
       "      <td>1</td>\n",
       "      <td>Shingeki no Kyojin</td>\n",
       "    </tr>\n",
       "    <tr>\n",
       "      <th>46</th>\n",
       "      <td>20</td>\n",
       "      <td>1</td>\n",
       "      <td>Naruto</td>\n",
       "    </tr>\n",
       "    <tr>\n",
       "      <th>47</th>\n",
       "      <td>31964</td>\n",
       "      <td>1</td>\n",
       "      <td>Boku no Hero Academia</td>\n",
       "    </tr>\n",
       "    <tr>\n",
       "      <th>48</th>\n",
       "      <td>25777</td>\n",
       "      <td>1</td>\n",
       "      <td>Shingeki no Kyojin Season 2</td>\n",
       "    </tr>\n",
       "    <tr>\n",
       "      <th>49</th>\n",
       "      <td>8525</td>\n",
       "      <td>5</td>\n",
       "      <td>Kami nomi zo Shiru Sekai</td>\n",
       "    </tr>\n",
       "    <tr>\n",
       "      <th>50</th>\n",
       "      <td>12117</td>\n",
       "      <td>1</td>\n",
       "      <td>Detective Conan Movie 16: The Eleventh Striker</td>\n",
       "    </tr>\n",
       "  </tbody>\n",
       "</table>\n",
       "</div>"
      ],
      "text/plain": [
       "    anime_id  rating                                               name\n",
       "0      23847      10  Yahari Ore no Seishun Love Comedy wa Machigatt...\n",
       "1      14813      10  Yahari Ore no Seishun Love Comedy wa Machigatt...\n",
       "2      12403      10                                        Yuru Yuri♪♪\n",
       "3      30902      10                           Yuru Yuri Nachuyachumi!+\n",
       "4      30279      10                                 Yuru Yuri San☆Hai!\n",
       "5      10495      10                                          Yuru Yuri\n",
       "6       5909       8                                Seitokai no Ichizon\n",
       "7      10464       8                           Seitokai no Ichizon Lv.2\n",
       "8      32603       8                         Okusama ga Seitokaichou!+!\n",
       "9      20847      10                               Seitokai Yakuindomo*\n",
       "10      8675      10                                Seitokai Yakuindomo\n",
       "11     13759       8                         Sakurasou no Pet na Kanojo\n",
       "12     14749       9     Ore no Kanojo to Osananajimi ga Shuraba Sugiru\n",
       "13     19221       7  Ore no Nounai Sentakushi ga, Gakuen Love Comed...\n",
       "14     30296       7                           Rakudai Kishi no Cavalry\n",
       "15     25099       8  Ore ga Ojousama Gakkou ni &quot;Shomin Sample&...\n",
       "16     14199       9      Oniichan dakedo Ai Sae Areba Kankeinai yo ne!\n",
       "17      6512       7                                          Nyan Koi!\n",
       "18     18897      10                                            Nisekoi\n",
       "19     27787      10                                           Nisekoi:\n",
       "20     17549       9                                     Non Non Biyori\n",
       "21     23623       9                              Non Non Biyori Repeat\n",
       "22     32547       9                          Non Non Biyori Repeat OVA\n",
       "23     31404       9       Netoge no Yome wa Onnanoko ja Nai to Omotta?\n",
       "24     10110       8                                        Mayo Chiki!\n",
       "25     33487       6                            Masamune-kun no Revenge\n",
       "26     30831       9             Kono Subarashii Sekai ni Shukufuku wo!\n",
       "27     32937       9           Kono Subarashii Sekai ni Shukufuku wo! 2\n",
       "28      9041       9                               IS: Infinite Stratos\n",
       "29     18247       9                             IS: Infinite Stratos 2\n",
       "30     25159      10             Inou-Battle wa Nichijou-kei no Naka de\n",
       "31     15225       7                     Hentai Ouji to Warawanai Neko.\n",
       "32     11785       8                               Haiyore! Nyaruko-san\n",
       "33     15699       8                             Haiyore! Nyaruko-san W\n",
       "34     10719      10                       Boku wa Tomodachi ga Sukunai\n",
       "35     14967      10                  Boku wa Tomodachi ga Sukunai Next\n",
       "36     23723       9                                             Teppen\n",
       "37     32281      10                                     Kimi no Na wa.\n",
       "38     28851      10                                     Koe no Katachi\n",
       "39      4224      10                                          Toradora!\n",
       "40      7791      10                                             K-On!!\n",
       "41      5680      10                                              K-On!\n",
       "42      1195       7                                   Zero no Tsukaima\n",
       "43      1535       1                                         Death Note\n",
       "44     13601       1                                        Psycho-Pass\n",
       "45     16498       1                                 Shingeki no Kyojin\n",
       "46        20       1                                             Naruto\n",
       "47     31964       1                              Boku no Hero Academia\n",
       "48     25777       1                        Shingeki no Kyojin Season 2\n",
       "49      8525       5                           Kami nomi zo Shiru Sekai\n",
       "50     12117       1     Detective Conan Movie 16: The Eleventh Striker"
      ]
     },
     "execution_count": 173,
     "metadata": {},
     "output_type": "execute_result"
    }
   ],
   "source": [
    "def original_set():\n",
    "    return set(my_ratings[\"anime_id\"].values)\n",
    "original_set = original_set()\n",
    "current_set = original_set\n",
    "my_ratings_copy.at[0,\"rating\"] = 10\n",
    "my_ratings_copy"
   ]
  },
  {
   "cell_type": "code",
   "execution_count": 174,
   "metadata": {},
   "outputs": [],
   "source": [
    "id_to_my_ratings_idx = dict()\n",
    "id_to_anime_infos_idx = dict()"
   ]
  },
  {
   "cell_type": "code",
   "execution_count": null,
   "metadata": {},
   "outputs": [
    {
     "name": "stdout",
     "output_type": "stream",
     "text": [
      "736\n",
      "2262\n",
      "3942\n",
      "5089\n",
      "5607\n",
      "5789\n",
      "5861\n",
      "5888\n"
     ]
    }
   ],
   "source": [
    "import time\n",
    "\n",
    "def add_anime_iteration(all_anime_ids):\n",
    "    for anime_id in all_anime_ids:\n",
    "        if anime_id in original_set:\n",
    "            continue #we don't wanna modify actual user's rating\n",
    "            \n",
    "        #since idx won't change, we put it in a dict for faster search time\n",
    "        if anime_id in id_to_anime_infos_idx:\n",
    "            anime_idx = id_to_anime_infos_idx[anime_id]\n",
    "        else:\n",
    "            anime_idx = get_anime_idx_by_id(anime_id)\n",
    "            id_to_anime_infos_idx[anime_id] = anime_idx\n",
    "        \n",
    "        #get similar animes. note that these are the anime's idx, not anime_id\n",
    "        similar_animes = indices[anime_idx].tolist()\n",
    "        anime_distances = distances[anime_idx].tolist()\n",
    "        #remove yourself\n",
    "        if anime_idx in similar_animes:\n",
    "            id_anime = similar_animes.index(anime_idx)\n",
    "            similar_animes.pop(id_anime)\n",
    "            anime_distances.pop(id_anime)\n",
    "        else:\n",
    "            similar_animes = similar_animes[:number_neighbors-1]\n",
    "            anime_distances = anime_distances[:number_neighbors-1]\n",
    "            \n",
    "        #get the similar anime's id to obtain their rating in my_ratings\n",
    "        similar_anime_id = [anime_infos.at[idx,\"anime_id\"] for idx in similar_animes]\n",
    "        numerator = [anime_distances[i] * get_anime_rating(similar_anime_id[i]) for i in range(0,len(anime_distances))]\n",
    "        denominator = [anime_distances[i] * (numerator[i] != 0) for i in range(0,len(numerator))]\n",
    "        if sum(denominator) != 0:\n",
    "            predicted_rating = sum(numerator)/sum(denominator)\n",
    "            \n",
    "            #if we haven't predict the rating of this anime before\n",
    "            if anime_id not in current_set:\n",
    "                id_to_my_ratings_idx[anime_id] = len(my_ratings_copy.index)\n",
    "                #same thing, put the id-idx for my_ratings_copy into a dict for faster search time\n",
    "                my_ratings_copy.loc[len(my_ratings_copy.index)] = [anime_id, predicted_rating, get_anime_name(anime_id)]\n",
    "                current_set.add(anime_id)\n",
    "            else:\n",
    "                rating_idx = id_to_my_ratings_idx[anime_id]\n",
    "                my_ratings_copy.at[rating_idx,\"rating\"] = predicted_rating\n",
    "#timer\n",
    "start = time.time()\n",
    "\n",
    "cnt = 1\n",
    "all_anime_ids = get_all_anime_ids()\n",
    "length = len(current_set)\n",
    "while len(current_set) < len(all_anime_ids):\n",
    "    add_anime_iteration(all_anime_ids)\n",
    "    if length == len(current_set):\n",
    "        cnt += 1\n",
    "    else:\n",
    "        cnt = 1\n",
    "    length = len(current_set)\n",
    "    print(length)\n",
    "    if cnt == 2:\n",
    "        print(\"Try adding more of your own reviews\")\n",
    "        break\n",
    "\n",
    "end = time.time()\n",
    "print(\"Algorithms run in\",end - start,\"seconds\")"
   ]
  },
  {
   "cell_type": "code",
   "execution_count": 165,
   "metadata": {},
   "outputs": [
    {
     "data": {
      "text/plain": [
       "anime_id    5922\n",
       "rating      1825\n",
       "name        5922\n",
       "dtype: int64"
      ]
     },
     "execution_count": 165,
     "metadata": {},
     "output_type": "execute_result"
    }
   ],
   "source": [
    "my_ratings_copy.sort_values(by=\"rating\",ascending=False, inplace = True)\n",
    "my_ratings_copy.nunique()"
   ]
  },
  {
   "cell_type": "code",
   "execution_count": 166,
   "metadata": {},
   "outputs": [
    {
     "name": "stdout",
     "output_type": "stream",
     "text": [
      "1: 570 Jin-Rou 10\n",
      "2: 27789 Yodaka no Hoshi (Music) 10\n",
      "3: 10036 Boku no Chikyuu wo Mamotte: Kiniro no Toki Nasarete 10\n",
      "4: 8557 Shinryaku! Ika Musume 10\n",
      "5: 2029 Sirius no Densetsu 10\n",
      "6: 32804 Ainone 10\n",
      "7: 1718 Winter Garden 10\n",
      "8: 3558 Doukyuusei (OVA): Natsu no Owari ni 10\n",
      "9: 25139 Oh! My Konbu 10\n",
      "10: 28673 Duan Nao 10\n",
      "11: 11101 Honoo no Alpenrose 10\n",
      "12: 8713 Akai Ito 10\n",
      "13: 1723 Clannad Movie 10\n",
      "14: 30652 Long Riders! 10\n",
      "15: 33911 Gakuen Handsome: Legend of Sexy 10\n",
      "16: 7598 Loups=Garous 10\n",
      "17: 32760 Bungaku Shounen no Yuuutsu 10\n",
      "18: 32759 Kokuen 10\n",
      "19: 3469 Maria-sama ga Miteru: Haru Specials 10\n",
      "20: 6783 ef: A Tale of Memories. - Recollections 10\n"
     ]
    }
   ],
   "source": [
    "def get_top_n_animes(n = 20):\n",
    "    cnt = 1\n",
    "    i = 1\n",
    "    while cnt <= n and i < len(my_ratings_copy) - 1:\n",
    "        row = my_ratings_copy.loc[my_ratings_copy.index[i-1]]\n",
    "        anime_id = row[\"anime_id\"]\n",
    "        if anime_id not in my_ratings.anime_id.values:\n",
    "            print(str(cnt)+':',anime_id,row[\"name\"], round(row[\"rating\"]))\n",
    "            cnt += 1\n",
    "        i += 1\n",
    "get_top_n_animes()"
   ]
  },
  {
   "cell_type": "code",
   "execution_count": 167,
   "metadata": {},
   "outputs": [],
   "source": [
    "OUTPUT_PATH = os.path.join(\"datasets\",\"output\")\n",
    "OUTPUT_FILE = os.path.join(OUTPUT_PATH,\"anime_prediction_by_infos.csv\")\n",
    "my_ratings_copy.to_csv(OUTPUT_FILE,index = False, header = True)"
   ]
  }
 ],
 "metadata": {
  "_change_revision": 0,
  "_is_fork": false,
  "kernelspec": {
   "display_name": "Python 3",
   "language": "python",
   "name": "python3"
  },
  "language_info": {
   "codemirror_mode": {
    "name": "ipython",
    "version": 3
   },
   "file_extension": ".py",
   "mimetype": "text/x-python",
   "name": "python",
   "nbconvert_exporter": "python",
   "pygments_lexer": "ipython3",
   "version": "3.9.7"
  }
 },
 "nbformat": 4,
 "nbformat_minor": 4
}
